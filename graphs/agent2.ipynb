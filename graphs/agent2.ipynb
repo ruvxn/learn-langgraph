{
 "cells": [
  {
   "cell_type": "code",
   "execution_count": 1,
   "metadata": {},
   "outputs": [],
   "source": [
    "from typing import Dict, TypedDict, List\n",
    "from langgraph.graph import StateGraph\n",
    "import math"
   ]
  },
  {
   "cell_type": "code",
   "execution_count": 2,
   "metadata": {},
   "outputs": [],
   "source": [
    "class Agentstate(TypedDict):\n",
    "    values : List[int]\n",
    "    name: str\n",
    "    operation: str\n",
    "    result: str\n"
   ]
  },
  {
   "cell_type": "code",
   "execution_count": 3,
   "metadata": {},
   "outputs": [],
   "source": [
    "def operator (state: Agentstate) -> Agentstate:\n",
    "    \"\"\"This function handles operations\"\"\"\n",
    "    if state[\"operation\"] == \"+\":\n",
    "        state[\"result\"] = f\"Hi there {state[\"name\"]}, you selected {state[\"operation\"]}. Hence your result is {sum(state[\"values\"])}\"\n",
    "    elif state[\"operation\"] == \"*\":\n",
    "        state[\"result\"] =  f\"Hi there {state[\"name\"]}, you selected {state[\"operation\"]}. Hence your result is {math.prod(state[\"values\"])}\"\n",
    "    else:\n",
    "        state[\"result\"] = \"Please only use the following operations (+, *)\"\n",
    "        \n",
    "    return state\n"
   ]
  },
  {
   "cell_type": "code",
   "execution_count": 4,
   "metadata": {},
   "outputs": [],
   "source": [
    "graph = StateGraph(Agentstate)\n",
    "\n",
    "graph.add_node(\"calc\", operator)\n",
    "\n",
    "graph.set_entry_point(\"calc\")\n",
    "graph.set_finish_point(\"calc\")\n",
    "\n",
    "app = graph.compile()"
   ]
  },
  {
   "cell_type": "code",
   "execution_count": 5,
   "metadata": {},
   "outputs": [],
   "source": [
    "answers = app.invoke({\"values\":[1,2,3,4], \"name\":\"Ruveen\", \"operation\":\"+\"} )"
   ]
  },
  {
   "cell_type": "code",
   "execution_count": 6,
   "metadata": {},
   "outputs": [
    {
     "data": {
      "text/plain": [
       "'Hi there Ruveen, you selected +. Hence your result is 10'"
      ]
     },
     "execution_count": 6,
     "metadata": {},
     "output_type": "execute_result"
    }
   ],
   "source": [
    "answers[\"result\"]"
   ]
  },
  {
   "cell_type": "code",
   "execution_count": 7,
   "metadata": {},
   "outputs": [],
   "source": [
    "answers = app.invoke({\"values\":[1,2,3,4], \"name\":\"Ruveen\", \"operation\":\"*\"} )"
   ]
  },
  {
   "cell_type": "code",
   "execution_count": 8,
   "metadata": {},
   "outputs": [
    {
     "data": {
      "text/plain": [
       "'Hi there Ruveen, you selected *. Hence your result is 24'"
      ]
     },
     "execution_count": 8,
     "metadata": {},
     "output_type": "execute_result"
    }
   ],
   "source": [
    "answers[\"result\"]"
   ]
  },
  {
   "cell_type": "code",
   "execution_count": 9,
   "metadata": {},
   "outputs": [],
   "source": [
    "answers = app.invoke({\"values\":[1,2,3,4], \"name\":\"Ruveen\", \"operation\":\"=\"} )"
   ]
  },
  {
   "cell_type": "code",
   "execution_count": 10,
   "metadata": {},
   "outputs": [
    {
     "data": {
      "text/plain": [
       "'Please only use the following operations (+, *)'"
      ]
     },
     "execution_count": 10,
     "metadata": {},
     "output_type": "execute_result"
    }
   ],
   "source": [
    "answers[\"result\"]"
   ]
  },
  {
   "cell_type": "code",
   "execution_count": null,
   "metadata": {},
   "outputs": [],
   "source": []
  }
 ],
 "metadata": {
  "kernelspec": {
   "display_name": "LangV",
   "language": "python",
   "name": "python3"
  },
  "language_info": {
   "codemirror_mode": {
    "name": "ipython",
    "version": 3
   },
   "file_extension": ".py",
   "mimetype": "text/x-python",
   "name": "python",
   "nbconvert_exporter": "python",
   "pygments_lexer": "ipython3",
   "version": "3.13.5"
  }
 },
 "nbformat": 4,
 "nbformat_minor": 2
}
