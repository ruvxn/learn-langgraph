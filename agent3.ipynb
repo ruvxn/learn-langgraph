{
 "cells": [
  {
   "cell_type": "code",
   "execution_count": 1,
   "metadata": {},
   "outputs": [],
   "source": [
    "from typing import List, Dict, TypedDict\n",
    "from langgraph.graph import StateGraph"
   ]
  },
  {
   "cell_type": "code",
   "execution_count": 2,
   "metadata": {},
   "outputs": [],
   "source": [
    "class StateAgent(TypedDict):\n",
    "    name: str\n",
    "    age : int\n",
    "    skills: List[str]\n",
    "    final_result:str\n"
   ]
  },
  {
   "cell_type": "code",
   "execution_count": 3,
   "metadata": {},
   "outputs": [],
   "source": [
    "def first_node(state: StateAgent) -> StateAgent:\n",
    "    \"\"\"this is the first node of the sequence\"\"\"\n",
    "    state[\"final_result\"] = f\"Hi {state[\"name\"]}!\"\n",
    "    return state\n",
    "\n",
    "\n",
    "def second_node(state: StateAgent) -> StateAgent:\n",
    "    \"\"\"this is the second node of the sequence\"\"\"\n",
    "    state[\"final_result\"] = state[\"final_result\"] + f\"You are {state[\"age\"]} years old and \"\n",
    "    return state\n",
    "\n",
    "def third_node(state: StateAgent) -> StateAgent:\n",
    "    \"\"\"this is the third node of the sequence\"\"\"\n",
    "    state[\"final_result\"] = state[\"final_result\"] + f\"these are your skills :- {','.join(state[\"skills\"])}\"\n",
    "    return state\n"
   ]
  },
  {
   "cell_type": "code",
   "execution_count": 4,
   "metadata": {},
   "outputs": [],
   "source": [
    "graph = StateGraph(StateAgent)\n",
    "\n",
    "graph.add_node(\"personalise\", first_node)\n",
    "graph.add_node(\"age_description\", second_node)\n",
    "graph.add_node(\"skill_preview\", third_node)\n",
    "\n",
    "graph.set_entry_point(\"personalise\")\n",
    "graph.add_edge(\"personalise\",\"age_description\")\n",
    "graph.add_edge(\"age_description\",\"skill_preview\")\n",
    "graph.set_finish_point(\"skill_preview\")\n",
    "\n",
    "app = graph.compile()"
   ]
  },
  {
   "cell_type": "code",
   "execution_count": 5,
   "metadata": {},
   "outputs": [
    {
     "data": {
      "image/png": "[encoded data removed]",
      "text/plain": [
       "<IPython.core.display.Image object>"
      ]
     },
     "metadata": {},
     "output_type": "display_data"
    }
   ],
   "source": [
    "from IPython.display import Image, display\n",
    "display(Image(app.get_graph().draw_mermaid_png()))"
   ]
  },
  {
   "cell_type": "code",
   "execution_count": 6,
   "metadata": {},
   "outputs": [],
   "source": [
    "result = app.invoke({\"name\":\"Ruveen\", \"age\":23, \"skills\":[\"ML\",\"AI\", \"DS\"]})"
   ]
  },
  {
   "cell_type": "code",
   "execution_count": 7,
   "metadata": {},
   "outputs": [
    {
     "data": {
      "text/plain": [
       "'Hi Ruveen!You are 23 years old and these are your skills :- ML,AI,DS'"
      ]
     },
     "execution_count": 7,
     "metadata": {},
     "output_type": "execute_result"
    }
   ],
   "source": [
    "result[\"final_result\"]"
   ]
  }
 ],
 "metadata": {
  "kernelspec": {
   "display_name": "LangV",
   "language": "python",
   "name": "python3"
  },
  "language_info": {
   "codemirror_mode": {
    "name": "ipython",
    "version": 3
   },
   "file_extension": ".py",
   "mimetype": "text/x-python",
   "name": "python",
   "nbconvert_exporter": "python",
   "pygments_lexer": "ipython3",
   "version": "3.13.5"
  }
 },
 "nbformat": 4,
 "nbformat_minor": 2
}
